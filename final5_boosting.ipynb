{
 "cells": [
  {
   "cell_type": "markdown",
   "id": "6ffe78e5-3350-4917-869e-ce665dab8453",
   "metadata": {},
   "source": [
    "**1.** 문제 **final1**의 data를 이용하여 **GraidentBoosting Regressor**를 설계하고 성능을 평가하시오."
   ]
  },
  {
   "cell_type": "code",
   "execution_count": null,
   "id": "810bea2a-bc3f-4d93-9752-7c3f4b56907c",
   "metadata": {},
   "outputs": [],
   "source": []
  },
  {
   "cell_type": "markdown",
   "id": "23b4f2c6-7c43-4d67-a255-9f4f54e0f638",
   "metadata": {},
   "source": [
    "**2.** **Boosting**과 **Bagging**의 **특징**과 **차이점**에 대해 간단히 서술하시오."
   ]
  },
  {
   "cell_type": "code",
   "execution_count": null,
   "id": "7571dc0b-e9e5-4cf2-94b5-91f4da16b289",
   "metadata": {},
   "outputs": [],
   "source": []
  },
  {
   "cell_type": "markdown",
   "id": "1490c2b1-b97e-4d2d-a3fe-da59f63ba3f2",
   "metadata": {},
   "source": [
    "**3.** **GradientBoosting Classifier**가 같는 **AdaBoost Calssifier**와의 **차이점**을 간단히 설명하시오."
   ]
  },
  {
   "cell_type": "code",
   "execution_count": null,
   "id": "164a5794-ad71-4872-bd2b-8efd7f9c1836",
   "metadata": {},
   "outputs": [],
   "source": []
  }
 ],
 "metadata": {
  "kernelspec": {
   "display_name": "Python 3 (ipykernel)",
   "language": "python",
   "name": "python3"
  },
  "language_info": {
   "codemirror_mode": {
    "name": "ipython",
    "version": 3
   },
   "file_extension": ".py",
   "mimetype": "text/x-python",
   "name": "python",
   "nbconvert_exporter": "python",
   "pygments_lexer": "ipython3",
   "version": "3.10.13"
  }
 },
 "nbformat": 4,
 "nbformat_minor": 5
}
